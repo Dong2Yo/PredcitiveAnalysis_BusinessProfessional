{
 "cells": [
  {
   "cell_type": "markdown",
   "id": "8927abd4-dff3-43a9-a335-11f7331b98da",
   "metadata": {},
   "source": [
    "# Lab02"
   ]
  },
  {
   "cell_type": "markdown",
   "id": "ad7a157f-564a-4765-a5a2-3be180d0c6fe",
   "metadata": {},
   "source": [
    "## Problem 1"
   ]
  },
  {
   "cell_type": "markdown",
   "id": "a7df6839-18e1-4db2-81cc-f7cb249ff776",
   "metadata": {},
   "source": [
    "Write a Python program that takes a user input and checks if it is a [palindrome.](https://en.wikipedia.org/wiki/Palindrome)"
   ]
  },
  {
   "cell_type": "code",
   "execution_count": null,
   "id": "eda3ea5f-cfb9-4a68-8b46-61582fdf022b",
   "metadata": {},
   "outputs": [],
   "source": [
    "# Write your code here\n"
   ]
  },
  {
   "cell_type": "markdown",
   "id": "2d62475e-0d19-42a0-8340-87603ec3ef23",
   "metadata": {},
   "source": [
    "## Problem 2"
   ]
  },
  {
   "cell_type": "markdown",
   "id": "994eb1e1-8d87-4923-9c88-5ea22026fa13",
   "metadata": {},
   "source": [
    "Write a Python program that takes a user input and prints the [Fibonacci sequence](https://en.wikipedia.org/wiki/Fibonacci_sequence) up to that number."
   ]
  },
  {
   "cell_type": "code",
   "execution_count": null,
   "id": "b9453ba2-aafb-4a76-a282-413b0bbe8969",
   "metadata": {},
   "outputs": [],
   "source": [
    "# Write your code here\n"
   ]
  },
  {
   "cell_type": "markdown",
   "id": "417c88db-3c06-431b-b49a-e42f39b7f61b",
   "metadata": {},
   "source": [
    "## Problem 3"
   ]
  },
  {
   "cell_type": "markdown",
   "id": "dfff6c09-68c0-46c1-9b2b-16151abd3daf",
   "metadata": {},
   "source": [
    "Get two strings form usr inputs, and test how many times the first string contains the second.  \n",
    " - For example if str1 = \"**co**ding is **co**ol\" and str2 = \"co\" then output should be 2."
   ]
  },
  {
   "cell_type": "code",
   "execution_count": null,
   "id": "6e83d95d-765c-4d3a-b88f-0da001c2146d",
   "metadata": {
    "collapsed": false,
    "jupyter": {
     "outputs_hidden": false
    }
   },
   "outputs": [],
   "source": [
    "# Write your code here\n"
   ]
  },
  {
   "cell_type": "markdown",
   "id": "5aadc1df-43a8-479a-9a38-baf82d5935fe",
   "metadata": {},
   "source": [
    "## Problem 4"
   ]
  },
  {
   "cell_type": "markdown",
   "id": "621258c1-6428-4944-a93c-efa96b5a30b0",
   "metadata": {},
   "source": [
    "Write a Python program that takes two input lists of equal length and outputs a new list with the corresponding elements added together.\n"
   ]
  },
  {
   "cell_type": "code",
   "execution_count": null,
   "id": "97f9b345-b886-4f2c-91e4-45d9d665b825",
   "metadata": {
    "collapsed": false,
    "jupyter": {
     "outputs_hidden": false
    }
   },
   "outputs": [],
   "source": [
    "list1 = [1, 2, 3, 4, 5]\n",
    "list2 = [5, 4, 3, 2, 1]\n",
    "\n",
    "# Write your code here\n",
    "\n"
   ]
  },
  {
   "cell_type": "markdown",
   "id": "44de0991-f6ab-4101-ac1a-78fbdfd8e686",
   "metadata": {},
   "source": [
    "## Problem 5"
   ]
  },
  {
   "cell_type": "markdown",
   "id": "ad1e6e3e-cda2-4b9e-bfb8-681c8893c288",
   "metadata": {},
   "source": [
    "Write a Python program that asks the user to enter a password until it meets the following requirements:\n",
    "\n",
    "- At least 8 characters long\n",
    "- Contains at least one uppercase letter\n",
    "- Contains at least one lowercase letter\n",
    "- Contains at least one digit"
   ]
  },
  {
   "cell_type": "code",
   "execution_count": null,
   "id": "25acbae8-fe26-4f65-90c5-f0d6f2f6a966",
   "metadata": {},
   "outputs": [],
   "source": [
    "# Write your code here\n",
    "\n"
   ]
  },
  {
   "cell_type": "code",
   "execution_count": null,
   "id": "d49a692b-95c3-41c6-a3f9-9f114c5df051",
   "metadata": {},
   "outputs": [],
   "source": []
  }
 ],
 "metadata": {
  "kernelspec": {
   "display_name": "Python 3 (ipykernel)",
   "language": "python",
   "name": "python3"
  },
  "language_info": {
   "codemirror_mode": {
    "name": "ipython",
    "version": 3
   },
   "file_extension": ".py",
   "mimetype": "text/x-python",
   "name": "python",
   "nbconvert_exporter": "python",
   "pygments_lexer": "ipython3",
   "version": "3.8.16"
  }
 },
 "nbformat": 4,
 "nbformat_minor": 5
}
