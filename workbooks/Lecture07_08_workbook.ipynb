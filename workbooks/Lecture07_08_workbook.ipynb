{
  "cells": [
    {
      "cell_type": "markdown",
      "metadata": {
        "id": "view-in-github",
        "colab_type": "text"
      },
      "source": [
        "<a href=\"https://colab.research.google.com/github/Dong2Yo/PredcitiveAnalysis_BusinessProfessional/blob/main/workbooks/Lecture07_08_workbook.ipynb\" target=\"_parent\"><img src=\"https://colab.research.google.com/assets/colab-badge.svg\" alt=\"Open In Colab\"/></a>"
      ]
    },
    {
      "cell_type": "markdown",
      "metadata": {
        "id": "oK8wx6Qcyq80"
      },
      "source": [
        "# Lecture 7-8 Student Workbook: Pandas"
      ]
    },
    {
      "cell_type": "markdown",
      "metadata": {
        "id": "g0WEG4T8yq88"
      },
      "source": [
        "###  Problem 1."
      ]
    },
    {
      "cell_type": "markdown",
      "metadata": {
        "id": "nqRpd2ojyq89"
      },
      "source": [
        "In this set of practice exercises we'll be investigating the carbon footprint of different foods. We'll be leveraging a dataset compiled by [Kasia Kulma](https://r-tastic.co.uk/post/from-messy-to-tidy/) and contributed to [R's Tidy Tuesday project](https://github.com/rfordatascience/tidytuesday).\n",
        "\n",
        "Start by importing pandas with the alias `pd`."
      ]
    },
    {
      "cell_type": "code",
      "execution_count": null,
      "metadata": {
        "id": "pON-kl51yq8-"
      },
      "outputs": [],
      "source": [
        "# Your answer here."
      ]
    },
    {
      "cell_type": "markdown",
      "metadata": {
        "id": "pSQ0Lgs1yq9A"
      },
      "source": [
        "### Problem 2."
      ]
    },
    {
      "cell_type": "markdown",
      "metadata": {
        "id": "Lxq3pVrsyq9C"
      },
      "source": [
        "The dataset we'll be working with has the following columns:\n",
        "\n",
        "|column      |description |\n",
        "|:-------------|:-----------|\n",
        "|country       | Country Name |\n",
        "|food_category | Food Category |\n",
        "|consumption   | Consumption (kg/person/year) |\n",
        "|co2_emmission | Co2 Emission (Kg CO2/person/year) |\n",
        "\n",
        "\n",
        "Import the dataset as a dataframe named `df` from this url: <https://raw.githubusercontent.com/rfordatascience/tidytuesday/master/data/2020/2020-02-18/food_consumption.csv>"
      ]
    },
    {
      "cell_type": "code",
      "execution_count": null,
      "metadata": {
        "id": "Fr-3Glqmyq9E"
      },
      "outputs": [],
      "source": [
        "# Your answer here."
      ]
    },
    {
      "cell_type": "markdown",
      "metadata": {
        "id": "UsT9I9Phyq9E"
      },
      "source": [
        "### Problem 3."
      ]
    },
    {
      "cell_type": "markdown",
      "metadata": {
        "id": "FZVIqCo0yq9F"
      },
      "source": [
        "How many rows and columns are there in the dataframe?"
      ]
    },
    {
      "cell_type": "code",
      "execution_count": null,
      "metadata": {
        "id": "JMAgJmVlyq9F"
      },
      "outputs": [],
      "source": [
        "# Your answer here."
      ]
    },
    {
      "cell_type": "markdown",
      "metadata": {
        "id": "Yh0n5Eeyyq9G"
      },
      "source": [
        "### Problem 4."
      ]
    },
    {
      "cell_type": "markdown",
      "metadata": {
        "id": "Dkof_sfnyq9G"
      },
      "source": [
        "What is the type of data in each column of `df`?"
      ]
    },
    {
      "cell_type": "code",
      "execution_count": null,
      "metadata": {
        "id": "hIx2NX1Myq9H"
      },
      "outputs": [],
      "source": [
        "# Your answer here."
      ]
    },
    {
      "cell_type": "markdown",
      "metadata": {
        "id": "vrpUqx7Jyq9I"
      },
      "source": [
        "### Problem 5."
      ]
    },
    {
      "cell_type": "markdown",
      "metadata": {
        "id": "q-TRuetyyq9I"
      },
      "source": [
        "What is the mean `co2_emission` of the whole dataset?"
      ]
    },
    {
      "cell_type": "code",
      "execution_count": null,
      "metadata": {
        "id": "mIr-dKiIyq9J"
      },
      "outputs": [],
      "source": [
        "# Your answer here."
      ]
    },
    {
      "cell_type": "markdown",
      "metadata": {
        "id": "RUOrwDXIyq9J"
      },
      "source": [
        "### Problem 6."
      ]
    },
    {
      "cell_type": "markdown",
      "metadata": {
        "id": "we0g_Ideyq9K"
      },
      "source": [
        "How many different kinds of foods are there in the dataset? How many countries are in the dataset?"
      ]
    },
    {
      "cell_type": "code",
      "execution_count": null,
      "metadata": {
        "id": "gb7Mlub3yq9K"
      },
      "outputs": [],
      "source": [
        "# Your answer here."
      ]
    },
    {
      "cell_type": "markdown",
      "metadata": {
        "id": "pfdy61e4yq9L"
      },
      "source": [
        "### Problem 7."
      ]
    },
    {
      "cell_type": "markdown",
      "metadata": {
        "id": "UIXndeI2yq9L"
      },
      "source": [
        "What is the maximum `co2_emmission` in the dataset and which food type and country does it belong to?"
      ]
    },
    {
      "cell_type": "code",
      "execution_count": null,
      "metadata": {
        "id": "EOqoOZJFyq9M"
      },
      "outputs": [],
      "source": [
        "# Your answer here."
      ]
    },
    {
      "cell_type": "markdown",
      "metadata": {
        "id": "LEOkmf-cyq9N"
      },
      "source": [
        "### Problem 8."
      ]
    },
    {
      "cell_type": "markdown",
      "metadata": {
        "id": "uSe29JLUyq9N"
      },
      "source": [
        "How many countries produce more than 1000 Kg CO2/person/year for at least one food type?"
      ]
    },
    {
      "cell_type": "code",
      "execution_count": null,
      "metadata": {
        "id": "lRnnpEJcyq9N"
      },
      "outputs": [],
      "source": [
        "# Your answer here."
      ]
    },
    {
      "cell_type": "markdown",
      "metadata": {
        "id": "jSUORCpcyq9O"
      },
      "source": [
        "### Problem 9."
      ]
    },
    {
      "cell_type": "markdown",
      "metadata": {
        "id": "MBh_f2l_yq9O"
      },
      "source": [
        "Which country consumes the least amount of beef per person per year?"
      ]
    },
    {
      "cell_type": "code",
      "execution_count": null,
      "metadata": {
        "id": "NCrNHfTAyq9P"
      },
      "outputs": [],
      "source": [
        "# Your answer here."
      ]
    },
    {
      "cell_type": "markdown",
      "metadata": {
        "id": "i_sGzAFjyq9P"
      },
      "source": [
        "### Problem 10."
      ]
    },
    {
      "cell_type": "markdown",
      "metadata": {
        "id": "9AhuSR9Kyq9Q"
      },
      "source": [
        "What is the total emissions of all the meat products (Pork, Poultry, Fish, Lamb & Goat, Beef) in the dataset combined?"
      ]
    },
    {
      "cell_type": "code",
      "execution_count": null,
      "metadata": {
        "id": "eJXpEJQQyq9S"
      },
      "outputs": [],
      "source": [
        "# Your answer here."
      ]
    },
    {
      "cell_type": "markdown",
      "metadata": {
        "id": "Apd3FdAMyq9U"
      },
      "source": [
        "What is the total emissions of all other (non-meat) products in the dataset combined?"
      ]
    },
    {
      "cell_type": "code",
      "execution_count": null,
      "metadata": {
        "id": "Pt0x8TObyq9V"
      },
      "outputs": [],
      "source": [
        "# Your answer here."
      ]
    },
    {
      "cell_type": "markdown",
      "metadata": {
        "id": "4DbqI7LQyq9W"
      },
      "source": [
        "<hr>\n",
        "<hr>\n",
        "<hr>"
      ]
    }
  ],
  "metadata": {
    "kernelspec": {
      "display_name": "Python 3 (ipykernel)",
      "language": "python",
      "name": "python3"
    },
    "language_info": {
      "codemirror_mode": {
        "name": "ipython",
        "version": 3
      },
      "file_extension": ".py",
      "mimetype": "text/x-python",
      "name": "python",
      "nbconvert_exporter": "python",
      "pygments_lexer": "ipython3",
      "version": "3.8.16"
    },
    "colab": {
      "provenance": [],
      "include_colab_link": true
    }
  },
  "nbformat": 4,
  "nbformat_minor": 0
}