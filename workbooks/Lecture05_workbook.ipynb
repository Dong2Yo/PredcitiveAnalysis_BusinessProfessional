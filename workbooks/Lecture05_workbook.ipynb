{
  "cells": [
    {
      "cell_type": "markdown",
      "metadata": {
        "id": "view-in-github",
        "colab_type": "text"
      },
      "source": [
        "<a href=\"https://colab.research.google.com/github/Dong2Yo/PredcitiveAnalysis_BusinessProfessional/blob/main/workbooks/Lecture05_workbook.ipynb\" target=\"_parent\"><img src=\"https://colab.research.google.com/assets/colab-badge.svg\" alt=\"Open In Colab\"/></a>"
      ]
    },
    {
      "cell_type": "markdown",
      "metadata": {
        "id": "KkGrYNWpyMf2"
      },
      "source": [
        "# Lecture 5 Student Workbook: Conditions & Loops"
      ]
    },
    {
      "cell_type": "markdown",
      "metadata": {
        "id": "P4JTqDjnyMf_"
      },
      "source": [
        "## Part 1: Conditions\n"
      ]
    },
    {
      "cell_type": "markdown",
      "metadata": {
        "id": "Q7ywvsHayMgB"
      },
      "source": [
        "### Problem 1"
      ]
    },
    {
      "cell_type": "markdown",
      "metadata": {
        "id": "XtAxOoOiyMgJ"
      },
      "source": [
        "Check if the x is perfect square.  If it is, print \"x is a perfect square\".  If not print \"x is not a perfect square\"."
      ]
    },
    {
      "cell_type": "code",
      "execution_count": null,
      "metadata": {
        "jupyter": {
          "outputs_hidden": false
        },
        "id": "ZwjCYrRkyMgL"
      },
      "outputs": [],
      "source": [
        "x = 25\n",
        "#Write your code here\n",
        "\n"
      ]
    },
    {
      "cell_type": "markdown",
      "metadata": {
        "id": "GQ0lFInDyMga"
      },
      "source": [
        "### Problem 2"
      ]
    },
    {
      "cell_type": "markdown",
      "metadata": {
        "id": "C-4EfkjmyMgb"
      },
      "source": [
        "Create a list L of arbitrary length. Get the median.\n"
      ]
    },
    {
      "cell_type": "code",
      "execution_count": null,
      "metadata": {
        "jupyter": {
          "outputs_hidden": false
        },
        "id": "KVcn59QDyMgc"
      },
      "outputs": [],
      "source": [
        "L = [213, 123, 21, 2, 12, 3]\n",
        "#Write your code here\n"
      ]
    },
    {
      "cell_type": "markdown",
      "metadata": {
        "id": "_d_ODsuDyMgd"
      },
      "source": [
        "### Problem 3"
      ]
    },
    {
      "cell_type": "markdown",
      "metadata": {
        "id": "0SyjX7CuyMgj"
      },
      "source": [
        "If there are fewer than 10 students in the class, then the top three students get an  A and the rest get a B.  Otherwise, the grade breakdown is as follows:\n",
        "\n",
        "- A: 90-100\n",
        "- B: 80-89\n",
        "- C: 70 - 79\n",
        "- D: 65 - 69\n",
        "- Failing: Below 65\n",
        "\n",
        "Given the list of grades in grades_list, print the grade received by the last student in this list. So if we have\n",
        "\n",
        "    grade_list = [50, 90, 91, 88, 75]\n",
        "\n",
        "we want to print the grade received by the student who received a 75. In this case it would be a B.\n",
        "\n"
      ]
    },
    {
      "cell_type": "code",
      "execution_count": null,
      "metadata": {
        "jupyter": {
          "outputs_hidden": false
        },
        "id": "gnVLvD4GyMgm"
      },
      "outputs": [],
      "source": [
        "grade_list = [50, 90, 91, 88, 75]\n",
        "#Write your code here"
      ]
    },
    {
      "cell_type": "markdown",
      "metadata": {
        "id": "wH2A05qGyMgn"
      },
      "source": [
        "### Problem 4"
      ]
    },
    {
      "cell_type": "markdown",
      "metadata": {
        "id": "SHr32IvKyMgo"
      },
      "source": [
        "Write a Python program that takes a user input and checks if it is a positive integer."
      ]
    },
    {
      "cell_type": "code",
      "execution_count": null,
      "metadata": {
        "id": "W1bo1juiyMgw"
      },
      "outputs": [],
      "source": [
        "user_input = input(\"Enter a positive integer: \")\n",
        "#Write your code here\n"
      ]
    },
    {
      "cell_type": "markdown",
      "metadata": {
        "id": "fsQeOApdyMgy"
      },
      "source": [
        "### Problem 5"
      ]
    },
    {
      "cell_type": "markdown",
      "metadata": {
        "id": "qAa_nYFAyMgz"
      },
      "source": [
        "Write a Python program that takes two user inputs and checks if they are equal."
      ]
    },
    {
      "cell_type": "code",
      "execution_count": null,
      "metadata": {
        "id": "xDDclKG7yMg0"
      },
      "outputs": [],
      "source": [
        "user_input_1 = input(\"Enter the first value: \")\n",
        "user_input_2 = input(\"Enter the second value: \")\n",
        "\n",
        "#Write your code here\n"
      ]
    },
    {
      "cell_type": "markdown",
      "metadata": {
        "id": "Ju6LMr-QyMg1"
      },
      "source": [
        "## Part 2: Loops\n"
      ]
    },
    {
      "cell_type": "markdown",
      "metadata": {
        "id": "jqg42DTWyMg3"
      },
      "source": [
        "### Problem 6"
      ]
    },
    {
      "cell_type": "markdown",
      "metadata": {
        "id": "40sv08muyMg4"
      },
      "source": [
        "Write a Python program that prints the first 10 even numbers."
      ]
    },
    {
      "cell_type": "code",
      "execution_count": null,
      "metadata": {
        "id": "pWAnjDRbyMg5"
      },
      "outputs": [],
      "source": []
    },
    {
      "cell_type": "markdown",
      "metadata": {
        "id": "lcxtgmvMyMg6"
      },
      "source": [
        "### Problem 7"
      ]
    },
    {
      "cell_type": "markdown",
      "metadata": {
        "id": "89aUlEQ9yMg7"
      },
      "source": [
        "Write a Python program that takes a user input and prints all the even numbers between 0 and the user input."
      ]
    },
    {
      "cell_type": "code",
      "execution_count": null,
      "metadata": {
        "id": "QljkHuGKyMg7"
      },
      "outputs": [],
      "source": [
        "user_input = int(input(\"Enter a positive integer: \"))\n",
        "\n",
        "#Write your code here\n"
      ]
    },
    {
      "cell_type": "markdown",
      "metadata": {
        "id": "Ri0MqYbmyMg8"
      },
      "source": [
        "### Problem 8"
      ]
    },
    {
      "cell_type": "markdown",
      "metadata": {
        "id": "pXOfGb-myMg9"
      },
      "source": [
        "Count the number of n's in your name (lower and uppercase count)"
      ]
    },
    {
      "cell_type": "code",
      "execution_count": null,
      "metadata": {
        "jupyter": {
          "outputs_hidden": false
        },
        "id": "ampq8wn8yMg9"
      },
      "outputs": [],
      "source": [
        "#Write your code here\n",
        "name =\n",
        "\n"
      ]
    },
    {
      "cell_type": "markdown",
      "metadata": {
        "id": "UWRJm3AMyMg-"
      },
      "source": [
        "### Problem 9"
      ]
    },
    {
      "cell_type": "markdown",
      "metadata": {
        "id": "aGvakRmzyMg_"
      },
      "source": [
        "Get all of the factors of a number and store them in a list"
      ]
    },
    {
      "cell_type": "code",
      "execution_count": null,
      "metadata": {
        "jupyter": {
          "outputs_hidden": false
        },
        "id": "I-r21bfnyMhA"
      },
      "outputs": [],
      "source": [
        "#Write your code here\n"
      ]
    },
    {
      "cell_type": "markdown",
      "metadata": {
        "id": "E61Irid8yMhB"
      },
      "source": [
        "### Problem 10"
      ]
    },
    {
      "cell_type": "markdown",
      "metadata": {
        "id": "X6SnEqdLyMhB"
      },
      "source": [
        "Generate the first N numbers of the [Fibonacci sequence](https://en.wikipedia.org/wiki/Fibonacci_sequence) where\n",
        "\n",
        "$a_0 = 1$\n",
        "\n",
        "$a_1=1$\n",
        "\n",
        "$a_n = a_{n-1} + a_{n-2}$"
      ]
    },
    {
      "cell_type": "code",
      "execution_count": null,
      "metadata": {
        "jupyter": {
          "outputs_hidden": false
        },
        "id": "d6PQmPsMyMhC"
      },
      "outputs": [],
      "source": [
        "#Write your code here\n"
      ]
    },
    {
      "cell_type": "markdown",
      "metadata": {
        "id": "rIOVxSIEyMhD"
      },
      "source": [
        "### Problem 11"
      ]
    },
    {
      "cell_type": "markdown",
      "metadata": {
        "id": "SKaJ5sv-yMhF"
      },
      "source": [
        "Write a Python program that generates a random number between 1 and 100 and asks the user to guess it. The program should keep asking for guesses until the user correctly guesses the number."
      ]
    },
    {
      "cell_type": "code",
      "execution_count": null,
      "metadata": {
        "id": "Ao1ZKWmSyMhG"
      },
      "outputs": [],
      "source": [
        "import random\n",
        "\n",
        "number = random.randint(1, 100)\n",
        "\n",
        "#Write your code here\n"
      ]
    },
    {
      "cell_type": "markdown",
      "metadata": {
        "id": "VUWkySVyyMhH"
      },
      "source": [
        "### Problem 12"
      ]
    },
    {
      "cell_type": "markdown",
      "metadata": {
        "id": "zuF-oL86yMhI"
      },
      "source": [
        "Write a Python program that takes a decimal number from the user and converts it to binary using a while loop."
      ]
    },
    {
      "cell_type": "code",
      "execution_count": null,
      "metadata": {
        "id": "k11dAAgIyMhI"
      },
      "outputs": [],
      "source": [
        "decimal = int(input(\"Enter a decimal number: \"))\n",
        "\n",
        "#Write your code here\n"
      ]
    },
    {
      "cell_type": "code",
      "execution_count": null,
      "metadata": {
        "id": "uu1SpKoQyMhY"
      },
      "outputs": [],
      "source": []
    }
  ],
  "metadata": {
    "kernelspec": {
      "display_name": "Python 3 (ipykernel)",
      "language": "python",
      "name": "python3"
    },
    "language_info": {
      "codemirror_mode": {
        "name": "ipython",
        "version": 3
      },
      "file_extension": ".py",
      "mimetype": "text/x-python",
      "name": "python",
      "nbconvert_exporter": "python",
      "pygments_lexer": "ipython3",
      "version": "3.8.16"
    },
    "toc": {
      "nav_menu": {
        "height": "48px",
        "width": "252px"
      },
      "number_sections": true,
      "sideBar": true,
      "skip_h1_title": false,
      "toc_cell": false,
      "toc_position": {},
      "toc_section_display": "block",
      "toc_window_display": false
    },
    "colab": {
      "provenance": [],
      "include_colab_link": true
    }
  },
  "nbformat": 4,
  "nbformat_minor": 0
}