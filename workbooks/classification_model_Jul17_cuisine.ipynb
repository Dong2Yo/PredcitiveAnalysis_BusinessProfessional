{
  "cells": [
    {
      "cell_type": "markdown",
      "metadata": {
        "id": "view-in-github",
        "colab_type": "text"
      },
      "source": [
        "<a href=\"https://colab.research.google.com/github/Dong2Yo/PredcitiveAnalysis_BusinessProfessional/blob/main/workbooks/classification_model_Jul17_cuisine.ipynb\" target=\"_parent\"><img src=\"https://colab.research.google.com/assets/colab-badge.svg\" alt=\"Open In Colab\"/></a>"
      ]
    },
    {
      "cell_type": "markdown",
      "metadata": {
        "id": "1xoaqWCYuOu0"
      },
      "source": [
        "# Build Classification Models\n",
        "\n",
        "## Predict a national cuisine"
      ]
    },
    {
      "cell_type": "markdown",
      "metadata": {
        "id": "Z7kct2i-uOvF"
      },
      "source": [
        "[source data](https://raw.githubusercontent.com/Dong2Yo/Dataset/main/cleaned_cuisines.csv)"
      ]
    },
    {
      "cell_type": "code",
      "execution_count": null,
      "metadata": {
        "id": "t-1NYjUHuOvJ"
      },
      "outputs": [],
      "source": []
    },
    {
      "cell_type": "markdown",
      "metadata": {
        "id": "66mK17oduOvL"
      },
      "source": [
        "### Divide the X and y coordinates into two dataframes for training. cuisine can be the labels dataframe:"
      ]
    },
    {
      "cell_type": "code",
      "execution_count": null,
      "metadata": {
        "id": "XaAEsy8nuOvO"
      },
      "outputs": [],
      "source": []
    },
    {
      "cell_type": "markdown",
      "metadata": {
        "id": "Z3uxvvCnuOvQ"
      },
      "source": [
        "### Choosing your classifier\n",
        "Now that your data is clean and ready for training, you have to decide which algorithm to use for the job.\n",
        "\n",
        "Scikit-learn groups classification under Supervised Learning, and in that category you will find many ways to classify. The variety is quite bewildering at first sight. The following methods all include classification techniques:\n",
        "\n",
        "- Linear Models\n",
        "- Support Vector Machines\n",
        "- Stochastic Gradient Descent\n",
        "- Nearest Neighbors\n",
        "- Gaussian Processes\n",
        "- Decision Trees\n",
        "- Ensemble methods (voting Classifier)\n",
        "- Multiclass and multioutput algorithms (multiclass and multilabel classification, multiclass-multioutput classification)"
      ]
    },
    {
      "cell_type": "markdown",
      "metadata": {
        "id": "lcnpH6O_uOvT"
      },
      "source": [
        "### What classifier to go with?\n",
        "\n",
        "So, which classifier should you choose? Often, running through several and looking for a good result is a way to test. Scikit-learn offers a [side-by-side comparison](https://scikit-learn.org/stable/auto_examples/classification/plot_classifier_comparison.html) on a created dataset, comparing KNeighbors, SVC two ways, GaussianProcessClassifier, DecisionTreeClassifier, RandomForestClassifier, MLPClassifier, AdaBoostClassifier, GaussianNB and QuadraticDiscrinationAnalysis, showing the results visualized:"
      ]
    },
    {
      "cell_type": "markdown",
      "metadata": {
        "id": "Gk4LhBlhuOvW"
      },
      "source": [
        "### A better approach\n",
        "A better way than wildly guessing, however, is to follow the ideas on this downloadable [ML Cheat sheet](https://github.com/Dong2Yo/PredcitiveAnalysis_BusinessProfessional/blob/main/lectures/azure-machine-learning-algorithm-cheat-sheet-july-2021.pdf)."
      ]
    },
    {
      "cell_type": "markdown",
      "metadata": {
        "id": "2i-JkQNduOvY"
      },
      "source": [
        "### Spliting the data"
      ]
    },
    {
      "cell_type": "code",
      "execution_count": null,
      "metadata": {
        "id": "o0FCHcokuOva"
      },
      "outputs": [],
      "source": []
    },
    {
      "cell_type": "markdown",
      "metadata": {
        "id": "jOQPv1hKuOvc"
      },
      "source": [
        "Since you are using the multiclass case, you need to choose what scheme to use and what solver to set. Use LogisticRegression with a multiclass setting and the liblinear solver to train."
      ]
    },
    {
      "cell_type": "code",
      "execution_count": null,
      "metadata": {
        "id": "Jlmh5M-RuOvd"
      },
      "outputs": [],
      "source": []
    },
    {
      "cell_type": "code",
      "execution_count": null,
      "metadata": {
        "id": "Bi96pEDhuOve"
      },
      "outputs": [],
      "source": []
    },
    {
      "cell_type": "markdown",
      "metadata": {
        "id": "hUCh3XjmuOvf"
      },
      "source": [
        "You can see this model in action by testing one row of data (#50):"
      ]
    },
    {
      "cell_type": "code",
      "execution_count": null,
      "metadata": {
        "id": "3Vyc6nHYuOvg"
      },
      "outputs": [],
      "source": []
    },
    {
      "cell_type": "markdown",
      "metadata": {
        "id": "vxDVWT4FuOvh"
      },
      "source": [
        "Get more detail by printing a classification report, as you did in the regression lessons:"
      ]
    },
    {
      "cell_type": "markdown",
      "metadata": {
        "id": "EDsHpK_BuOvk"
      },
      "source": [
        "# Build More Classification Models"
      ]
    },
    {
      "cell_type": "markdown",
      "metadata": {
        "id": "u90Tjo5puOvk"
      },
      "source": [
        "# Try different classifiers"
      ]
    },
    {
      "cell_type": "code",
      "execution_count": null,
      "metadata": {
        "id": "A0TbN2lUuOvm"
      },
      "outputs": [],
      "source": []
    },
    {
      "cell_type": "code",
      "execution_count": null,
      "metadata": {
        "id": "j4qvWcz3uOvo"
      },
      "outputs": [],
      "source": []
    },
    {
      "cell_type": "code",
      "execution_count": null,
      "metadata": {
        "id": "VOqrPy51uOvq"
      },
      "outputs": [],
      "source": []
    }
  ],
  "metadata": {
    "interpreter": {
      "hash": "70b38d7a306a849643e446cd70466270a13445e5987dfa1344ef2b127438fa4d"
    },
    "kernelspec": {
      "display_name": "Python 3 (ipykernel)",
      "language": "python",
      "name": "python3"
    },
    "language_info": {
      "codemirror_mode": {
        "name": "ipython",
        "version": 3
      },
      "file_extension": ".py",
      "mimetype": "text/x-python",
      "name": "python",
      "nbconvert_exporter": "python",
      "pygments_lexer": "ipython3",
      "version": "3.8.16"
    },
    "metadata": {
      "interpreter": {
        "hash": "70b38d7a306a849643e446cd70466270a13445e5987dfa1344ef2b127438fa4d"
      }
    },
    "colab": {
      "provenance": [],
      "include_colab_link": true
    }
  },
  "nbformat": 4,
  "nbformat_minor": 0
}